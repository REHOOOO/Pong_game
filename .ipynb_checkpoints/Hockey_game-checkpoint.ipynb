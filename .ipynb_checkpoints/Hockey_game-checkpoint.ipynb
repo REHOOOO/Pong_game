{
 "cells": [
  {
   "cell_type": "markdown",
   "id": "2a83a0d0",
   "metadata": {},
   "source": [
    "# 오락실의 하키 게임을 SW로 구현"
   ]
  },
  {
   "cell_type": "markdown",
   "id": "16bd9830",
   "metadata": {},
   "source": [
    "## 사용하는 헤더 불러오기"
   ]
  },
  {
   "cell_type": "code",
   "execution_count": null,
   "id": "0ccc76ab",
   "metadata": {},
   "outputs": [],
   "source": [
    "#include<stdio.h>\n",
    "#include<Windows.h>\n",
    "#include<conio.h>\n",
    "#include<stdlib.h> // rand 함수 사용\n",
    "#include<time.h>"
   ]
  },
  {
   "cell_type": "markdown",
   "id": "7ae8fa5a",
   "metadata": {},
   "source": [
    "## 매크로 선언"
   ]
  },
  {
   "cell_type": "code",
   "execution_count": null,
   "id": "3a59ae12",
   "metadata": {},
   "outputs": [],
   "source": [
    "#define UP 72\t\t// 키보드 위 방향키\n",
    "#define DOWN 80\t\t// 키보드 아래 방향키\n",
    "#define speed_num 10 // 시작할때의 공의 속도 (숫자가 커질수록 느려짐 (3일 경우 3번에 한번 공이 이동한다는 뜻))\n",
    "#define rally_num 1\t // 몇번의 랠리마다 속도를 증가시킬지 설정\n",
    "#define width 49\t// 가로 크기 - 1 (0부터 시작하기 때문) \n",
    "#define length 19\t// 세로 크기 - 1 (0부터 시작하기 때문) "
   ]
  },
  {
   "cell_type": "markdown",
   "id": "feedf481",
   "metadata": {},
   "source": [
    "## 사용하는 변수들 선언"
   ]
  },
  {
   "cell_type": "code",
   "execution_count": null,
   "id": "07c6c466",
   "metadata": {},
   "outputs": [],
   "source": [
    "int pos_x= width / 2; // 공의 시작 위치\n",
    "int pos_y=length / 2;\n",
    "int vel_x=1; // 공의 진행방향\n",
    "int vel_y=1;\n",
    "int speed1 = speed_num; \n",
    "int speed2 = 1;\n",
    "int speed_flag = 1; \n",
    "int rally = rally_num; \n",
    "int rally_flag = 1;\n",
    "int ball_flag1 = 0;\n",
    "int ball_flag2 = 0;\n",
    "int ball_flag3 = 0;\n",
    "int diff = 0;\n",
    "int com_speed = 0;\n",
    "int com_flag = 0;"
   ]
  },
  {
   "cell_type": "markdown",
   "id": "2a03b4eb",
   "metadata": {},
   "source": [
    "## 콘솔 창 설정\n",
    "가로는 50 세로는 20의 크기를 가지는 콘솔 창을 설정해 준다  \n",
    "콘솔창의 이름은 hockey game으로 설정"
   ]
  },
  {
   "cell_type": "code",
   "execution_count": null,
   "id": "74588e74",
   "metadata": {},
   "outputs": [],
   "source": [
    "void SetConsoleView()\t// 콘솔 창의 크기와 제목을 지정하는 함수\n",
    "{\n",
    "\tsystem(\"mode con:cols=50 lines=20\");\n",
    "\tsystem(\"title hockey game\");\n",
    "\n",
    "}"
   ]
  },
  {
   "cell_type": "markdown",
   "id": "20191cae",
   "metadata": {},
   "source": [
    "## 커서 위치 이동 함수"
   ]
  },
  {
   "cell_type": "code",
   "execution_count": null,
   "id": "c7c43221",
   "metadata": {},
   "outputs": [],
   "source": [
    "void GotoXY(int x, int y) // 커서의 위치를 x, y로 이동하는 함수\n",
    "{\n",
    "\tCOORD Pos;\n",
    "\tPos.X = x;\n",
    "\tPos.Y = y;\n",
    "\tSetConsoleCursorPosition(GetStdHandle(STD_OUTPUT_HANDLE), Pos);\n",
    "}"
   ]
  },
  {
   "cell_type": "markdown",
   "id": "2cc24505",
   "metadata": {},
   "source": [
    "## Player Bar 함수\n",
    "|  \n",
    "|  \n",
    "|  \n",
    "|  \n",
    "|  \n",
    "모습으로 게임창의 왼쪽에 Player Bar가 만들어진다"
   ]
  },
  {
   "cell_type": "code",
   "execution_count": null,
   "id": "500ae023",
   "metadata": {},
   "outputs": [],
   "source": [
    "void Drawbar(int y) // player의 bar를 그려주는 함수\n",
    "{\n",
    "\tGotoXY(0, y-2);\n",
    "\tprintf(\"|\\n\");\n",
    "\tGotoXY(0, y-1);\n",
    "\tprintf(\"|\\n\");\n",
    "\tGotoXY(0, y);\n",
    "\tprintf(\"|\\n\");\n",
    "\tGotoXY(0, y+1);\n",
    "\tprintf(\"|\\n\");\n",
    "\tGotoXY(0, y+2);\n",
    "\tprintf(\"|\\n\");\n",
    "}"
   ]
  },
  {
   "cell_type": "markdown",
   "id": "6e7fe141",
   "metadata": {},
   "source": [
    "## Computer Bar 함수\n",
    "|  \n",
    "|  \n",
    "|  \n",
    "|  \n",
    "|  \n",
    "모습으로 게임창의 오른쪽에 Computer Bar가 만들어진다"
   ]
  },
  {
   "cell_type": "code",
   "execution_count": null,
   "id": "7eee4939",
   "metadata": {},
   "outputs": [],
   "source": [
    "void Drawcom(int y)\t// 컴퓨터의 bar를 그려주는 함수\n",
    "{\n",
    "\tGotoXY(width, y-2);\n",
    "\tprintf(\"|\");\n",
    "\tGotoXY(width, y-1);\n",
    "\tprintf(\"|\");\n",
    "\tGotoXY(width, y);\n",
    "\tprintf(\"|\");\n",
    "\tGotoXY(width, y+1);\n",
    "\tprintf(\"|\");\n",
    "\tGotoXY(width, y+2);\n",
    "\tprintf(\"|\");\n",
    "}"
   ]
  },
  {
   "cell_type": "markdown",
   "id": "0f4b398c",
   "metadata": {},
   "source": [
    "## 레이아웃 함수\n",
    "게임창의 위와 아래를 구분할 수 있게 레이아웃을 그려준다"
   ]
  },
  {
   "cell_type": "code",
   "execution_count": null,
   "id": "16701c08",
   "metadata": {},
   "outputs": [],
   "source": [
    "void Drawlayout()\t// 레이아웃을 그려주는 함수\n",
    "{\n",
    "\tGotoXY(0, 0);\n",
    "\tprintf(\"-------------------------------------------------\");\n",
    "\tGotoXY(0, length);\n",
    "\tprintf(\"-------------------------------------------------\");\n",
    "\n",
    "}"
   ]
  },
  {
   "cell_type": "markdown",
   "id": "81b8f2e2",
   "metadata": {},
   "source": [
    "## 공 함수"
   ]
  },
  {
   "cell_type": "code",
   "execution_count": null,
   "id": "4287aeff",
   "metadata": {},
   "outputs": [],
   "source": [
    "void Drawball(int x, int y) // 공을 그려주는 함수\n",
    "{\n",
    "\tGotoXY(x, y);\n",
    "\tprintf(\"o\");\n",
    "}"
   ]
  },
  {
   "cell_type": "markdown",
   "id": "dfb84c44",
   "metadata": {},
   "source": [
    "## 공 위치 함수\n",
    "speed1 변수의 값이 1보다 크면 공의 속도는 1/speed1이 되고   \n",
    "speed1 변수의 값이 1보다 크지 않으면 공의 속도는 speed2가 된다  \n",
    "vel_x와 vel_y변수는 공의 방향을 정해준다  \n",
    "vel_x가 음수이면 게임창의 왼쪽으로 vel_x가 양수이면 게임창의 오른쪽으로 공이 이동  \n",
    "vel_y가 음수이면 게임창의 위쪽으로 vel_y가 양수이면 게임창의 아래쪽으로 공이 이동 "
   ]
  },
  {
   "cell_type": "code",
   "execution_count": null,
   "id": "2894ff08",
   "metadata": {},
   "outputs": [],
   "source": [
    "void update() // 공의 위치를 지정해 주는 함수\n",
    "{\n",
    "\tif (speed1 > 1)\n",
    "\t{\n",
    "\t\tif (speed_flag == speed1)\n",
    "\t\t{\n",
    "\t\t\tpos_x = pos_x + vel_x;\n",
    "\t\t\tpos_y = pos_y + vel_y;\n",
    "\t\t\tspeed_flag = 0;\n",
    "\t\t}\n",
    "\n",
    "\t\tspeed_flag = speed_flag + 1;\n",
    "\t}\n",
    "\telse\n",
    "\t{\n",
    "\t\tpos_x = pos_x + (vel_x * speed2);\n",
    "\t\tpos_y = pos_y + (vel_y * speed2);\n",
    "\t}\n",
    "\t\n",
    "\n",
    "\tDrawball(pos_x, pos_y);\n",
    "}"
   ]
  },
  {
   "cell_type": "markdown",
   "id": "94e71d72",
   "metadata": {},
   "source": [
    "## 게임 종료 창 \n",
    "졌을 때  \n",
    "![](game_over.png)"
   ]
  },
  {
   "cell_type": "code",
   "execution_count": null,
   "id": "122b35d2",
   "metadata": {},
   "outputs": [],
   "source": [
    "void Drawgameover(int score) // 게임종료창\n",
    "{\n",
    "\tsystem(\"cls\"); // 창을 초기화\n",
    "\tGotoXY(20, length / 2);\n",
    "\tprintf(\"GAMEOVER\\n\");\n",
    "\tGotoXY(20, (length / 2)+1);\n",
    "\tprintf(\"SCORE: %d\\n\\n\\n\", score);\n",
    "\tsystem(\"pause\");\n",
    "}"
   ]
  },
  {
   "cell_type": "markdown",
   "id": "308ac299",
   "metadata": {},
   "source": [
    "이겼을 때  \n",
    "![](win.png)"
   ]
  },
  {
   "cell_type": "code",
   "execution_count": null,
   "id": "c4a5767c",
   "metadata": {},
   "outputs": [],
   "source": [
    "void Drawwin(int score)\n",
    "{\n",
    "\tsystem(\"cls\");\n",
    "\tGotoXY(20, length / 2);\n",
    "\tprintf(\"YOU WIN\\n\");\n",
    "\tGotoXY(20, (length / 2) + 1);\n",
    "\tprintf(\"SCORE: %d\\n\\n\\n\", score);\n",
    "\tsystem(\"pause\");\n",
    "}"
   ]
  },
  {
   "cell_type": "markdown",
   "id": "84dd0feb",
   "metadata": {},
   "source": [
    "## 게임 시작 난이도 선택 창\n",
    "![](diff.png)"
   ]
  },
  {
   "cell_type": "code",
   "execution_count": null,
   "id": "e6462395",
   "metadata": {},
   "outputs": [],
   "source": [
    "void Drawdiff()\n",
    "{\n",
    "\tsystem(\"cls\");\n",
    "\tGotoXY(15, 6);\n",
    "\tprintf(\"1. 난이도 쉬움\");\n",
    "\tGotoXY(15, 8);\n",
    "\tprintf(\"2. 난이도 어려움\");\n",
    "\tGotoXY(15, 10);\n",
    "\tprintf(\"해당되는 번호를 눌러주세요\");\n",
    "}"
   ]
  },
  {
   "cell_type": "markdown",
   "id": "fa672cb7",
   "metadata": {},
   "source": [
    "# 메인 함수"
   ]
  },
  {
   "cell_type": "code",
   "execution_count": null,
   "id": "00eb9f19",
   "metadata": {},
   "outputs": [],
   "source": [
    "int main(void)\n",
    "{"
   ]
  },
  {
   "cell_type": "markdown",
   "id": "a8d70ece",
   "metadata": {},
   "source": [
    "콘솔창 띄움"
   ]
  },
  {
   "cell_type": "code",
   "execution_count": null,
   "id": "59cfeadb",
   "metadata": {},
   "outputs": [],
   "source": [
    "\tSetConsoleView();\n",
    "\t"
   ]
  },
  {
   "cell_type": "markdown",
   "id": "3060010f",
   "metadata": {},
   "source": [
    "무한루프 실행\n",
    "이 무한루프는 게임이 끝나면 다시 시작할 수 있도록 해준다"
   ]
  },
  {
   "cell_type": "code",
   "execution_count": null,
   "id": "794f1c96",
   "metadata": {},
   "outputs": [],
   "source": [
    "\twhile (1)\n",
    "\t{"
   ]
  },
  {
   "cell_type": "markdown",
   "id": "9214d831",
   "metadata": {},
   "source": [
    "변수들 초기화"
   ]
  },
  {
   "cell_type": "code",
   "execution_count": null,
   "id": "410e1d3a",
   "metadata": {},
   "outputs": [],
   "source": [
    "\t\t// 초기화\n",
    "\t\tint bar_y = length/2;\n",
    "\t\tint com_y = length/2;\n",
    "\t\tint score = 0;\n",
    "\t\tpos_x = width/2;\n",
    "\t\tpos_y = length/2;\n",
    "\t\tvel_x = 1; // 공의 진행방향\n",
    "\t\tvel_y = 1;\n",
    "\t\tspeed1 = speed_num; // 공의 속도 (숫자가 커질수록 느려짐 (3일 경우 3번에 한번 공이 이동한다는 뜻))\n",
    "\t\tspeed_flag = 1;\n",
    "\t\trally = rally_num; // 몇번의 랠리마다 속도를 증가시킬지 설정\n",
    "\t\trally_flag = 1;\n",
    "\t\tball_flag1 = 0;\n",
    "\t\tball_flag2 = 0;\n",
    "\t\tball_flag3 = 0;\n",
    "\t\tcom_speed = 0;\n",
    "\t\tcom_flag = 0;\n",
    "\t\tint rand1 = 0;\n",
    "\t\tint rand2 = 0;"
   ]
  },
  {
   "cell_type": "markdown",
   "id": "8426054d",
   "metadata": {},
   "source": [
    "## 난수 생성기\n",
    "rand의 seed값을 현재 시간으로 설정해주어 실행하는 시간에 따라 rand 값이 다르게 나오도록 설정해준다 \n",
    "rand값의 범위는 0 ~ 32767이다  \n",
    "이 값을 2로 나눈 나머지 값은 0 아니면 1이 나오게 된다  \n",
    "이 두 값을 가지고 vel_x와 vel_y에 1이나 -1을 랜덤으로 설정해주어 게임 시작시 공의 방향을 랜덤으로 설정시켜 준다"
   ]
  },
  {
   "cell_type": "code",
   "execution_count": null,
   "id": "24666c3c",
   "metadata": {},
   "outputs": [],
   "source": [
    "\t\t//////////////////////// 난수생성기 /////////////////////////////\n",
    "\t\tsrand((unsigned int)time(NULL)); // rand의 seed를 현재 시간으로 입력해준다\t\n",
    "\t\trand1 = rand() % 2;\t// rand값의 범위는 0~32767이다 2로 나눈 나머지를 구하게 되면 0과 1 두가지 값이 나오게 된다\n",
    "\t\trand2 = rand() % 2;\n",
    "\n",
    "\t\tif (rand1 == 0)\n",
    "\t\t{\n",
    "\t\t\tvel_x = -1;\n",
    "\t\t}\n",
    "\t\telse\n",
    "\t\t{\n",
    "\t\t\tvel_x = 1;\n",
    "\t\t}\n",
    "\n",
    "\t\tif (rand2 == 0)\n",
    "\t\t{\n",
    "\t\t\tvel_y = -1;\n",
    "\t\t}\n",
    "\t\telse\n",
    "\t\t{\n",
    "\t\t\tvel_y = 1;\n",
    "\t\t}\n",
    "\t\t//////////////////////////////////////////////////////"
   ]
  },
  {
   "cell_type": "markdown",
   "id": "56adf751",
   "metadata": {},
   "source": [
    "난이도 선택 창을 띄운다"
   ]
  },
  {
   "cell_type": "code",
   "execution_count": null,
   "id": "d94c9d83",
   "metadata": {},
   "outputs": [],
   "source": [
    "\t\tDrawdiff();"
   ]
  },
  {
   "cell_type": "markdown",
   "id": "eb9c327a",
   "metadata": {},
   "source": [
    "## 난이도 입력받기\n",
    "이 무한루프는 난이도를 입력받는다  \n",
    "키보드 1을 누르게 되면 난이도는 쉬움  \n",
    "키보드 2를 누르게 되면 난이도는 어려움으로 설정된다  \n",
    "다른 키를 누르게 되면 1, 2 중 원하는 난이도를 눌러주세요 라는 안내가 뜨게 된다"
   ]
  },
  {
   "cell_type": "code",
   "execution_count": null,
   "id": "9b6986a5",
   "metadata": {},
   "outputs": [],
   "source": [
    "\t\twhile (1)\n",
    "\t\t{\n",
    "\t\t\tdiff = 0;\n",
    "\t\t\tif (_kbhit()) {\t\t\t\t\t// 1. 키보드 입력이 감지되면\n",
    "\t\t\t\tint pressedKey = _getch();\t// 2. 아스키 코드 값을 가져오고\n",
    "\t\t\t\tswitch (pressedKey) {\t\t// 3. 입력받은 키에 해당하는 동작을 수행한다.\n",
    "\t\t\t\tcase '1':\t// 난이도 쉬움\n",
    "\t\t\t\t\tdiff = 1;\n",
    "\t\t\t\t\tbreak;\n",
    "\n",
    "\t\t\t\tcase '2':\t// 난이도 어려움\n",
    "\t\t\t\t\tdiff = 2;\n",
    "\t\t\t\t\tbreak;\n",
    "\n",
    "\t\t\t\tdefault:\n",
    "\t\t\t\t\tGotoXY(10, 12);\n",
    "\t\t\t\t\tprintf(\"1, 2 중 원하는 난이도를 눌러주세요\");\n",
    "\t\t\t\t}\n",
    "\t\t\t}\n",
    "\t\t\tif (diff == 1 || diff == 2)\n",
    "\t\t\t{\n",
    "\t\t\t\tbreak;\n",
    "\t\t\t}\n",
    "\t\t}\n",
    "\t\t"
   ]
  },
  {
   "cell_type": "markdown",
   "id": "f3690837",
   "metadata": {},
   "source": [
    "## 게임 진행  \n",
    "이 무한 루프는 게임이 진행될 수 있도록 해준다"
   ]
  },
  {
   "cell_type": "code",
   "execution_count": null,
   "id": "d677066b",
   "metadata": {},
   "outputs": [],
   "source": [
    "\t\twhile (1)\n",
    "\t\t{"
   ]
  },
  {
   "cell_type": "markdown",
   "id": "b76dc2d3",
   "metadata": {},
   "source": [
    "## 키보드 입력 받기\n",
    "위 방향키가 입력되면 Player bar를 위로 이동시켜준다  \n",
    "아래 방향키가 입력되면 Player bar를 아래로 이동시켜준다  \n",
    "Player bar의 속도는 2다 (한번 입력시 2칸씩 이동)"
   ]
  },
  {
   "cell_type": "code",
   "execution_count": null,
   "id": "b7adff6a",
   "metadata": {},
   "outputs": [],
   "source": [
    "\t\t\tif (_kbhit()) {\t\t\t\t\t// 1. 키보드 입력이 감지되면\n",
    "\t\t\t\tint pressedKey = _getch();\t// 2. 아스키 코드 값을 가져오고\n",
    "\t\t\t\tswitch (pressedKey) {\t\t// 3. 입력받은 키에 해당하는 동작을 수행한다.\n",
    "\t\t\t\tcase UP:\n",
    "\t\t\t\t\tbar_y -= 2;\n",
    "\t\t\t\t\tbreak;\n",
    "\t\t\t\t\t// 위로 이동\n",
    "\t\t\t\tcase DOWN:\n",
    "\t\t\t\t\tbar_y += 2;\n",
    "\t\t\t\t\tbreak;\n",
    "\t\t\t\t\t// 아래로 이동\n",
    "\t\t\t\t}\n",
    "\t\t\t}"
   ]
  },
  {
   "cell_type": "markdown",
   "id": "61bca18a",
   "metadata": {},
   "source": [
    "##  Player Bar 최대 최소 값\n",
    "Player Bar가 게임창 밖으로 나가지 않도록 해준다  \n",
    "Player Bar는 bar_y를 기준으로 2칸씩 더 확장되어있다 (Drawbar 함수 참고)  \n",
    "따라서 가장자리 레이아웃 자리까지 생각해서 위 아래 가장 끝에서 3번째에 bar_y의 최소 최대 값을 지정해준다"
   ]
  },
  {
   "cell_type": "code",
   "execution_count": null,
   "id": "73825e2a",
   "metadata": {},
   "outputs": [],
   "source": [
    "\t\t\tif (bar_y <= 3)\t\t// player bar의 위 아래 최소 최대 값을 정해준다\n",
    "\t\t\t{\n",
    "\t\t\t\tbar_y = 3;\n",
    "\t\t\t}\n",
    "\t\t\telse if (bar_y >= length - 3)\n",
    "\t\t\t{\n",
    "\t\t\t\tbar_y = length - 3;\n",
    "\t\t\t}"
   ]
  },
  {
   "cell_type": "markdown",
   "id": "95831380",
   "metadata": {},
   "source": [
    "update 함수를 실행시켜 공의 위치를 설정해 준다"
   ]
  },
  {
   "cell_type": "code",
   "execution_count": null,
   "id": "33c4b0f4",
   "metadata": {},
   "outputs": [],
   "source": [
    "\t\t\tupdate(); // 공의 위치를 변경해주는 함수"
   ]
  },
  {
   "cell_type": "markdown",
   "id": "9dac40b1",
   "metadata": {},
   "source": [
    "## 난이도 적용\n",
    "난이도가 쉬움이면 Computer Bar의 이동 속도는 0.5가 된다  \n",
    "난이도가 어려움이면 Computer Bar의 이동 속도는 1이 된다 "
   ]
  },
  {
   "cell_type": "code",
   "execution_count": null,
   "id": "b4822fee",
   "metadata": {},
   "outputs": [],
   "source": [
    "\t\t\t////////////////////////////////////////////////////////////////////////////////////////\n",
    "\n",
    "\t\t\tif (diff == 1)\t// 난이도 쉬움\n",
    "\t\t\t{\n",
    "\t\t\t\tcom_speed = 2;\n",
    "\t\t\t}\n",
    "\t\t\telse if (diff == 2)\t// 난이도 어려움\n",
    "\t\t\t{\n",
    "\t\t\t\tcom_speed = 1;\n",
    "\t\t\t}"
   ]
  },
  {
   "cell_type": "markdown",
   "id": "a26b349f",
   "metadata": {},
   "source": [
    "## Computer Bar 이동\n",
    "공의 위치에 따라 움직인다  \n",
    "이때 Computer Bar의 이동속도는 난이도에 따라 다르다"
   ]
  },
  {
   "cell_type": "code",
   "execution_count": null,
   "id": "25ae60af",
   "metadata": {},
   "outputs": [],
   "source": [
    "\t\t\tif (com_flag == com_speed)\n",
    "\t\t\t{\n",
    "\t\t\t\tif (com_y > pos_y)\t// 컴퓨터 bar의 위치를 설정해준다\n",
    "\t\t\t\t{\n",
    "\t\t\t\t\tcom_y = com_y - 1;\n",
    "\t\t\t\t}\n",
    "\t\t\t\telse if (com_y < pos_y)\n",
    "\t\t\t\t{\n",
    "\t\t\t\t\tcom_y = com_y + 1;\n",
    "\t\t\t\t}\n",
    "\t\t\t\tcom_flag = 0;\n",
    "\t\t\t}\n",
    "\t\t\tcom_flag = com_flag + 1;"
   ]
  },
  {
   "cell_type": "markdown",
   "id": "fd8b9492",
   "metadata": {},
   "source": [
    "## Computer Bar 최대 최소 값\n",
    "Computer Bar가 게임창 밖으로 나가지 않도록 해준다  \n",
    "Computer Bar는 com_y를 기준으로 2칸씩 더 확장되어있다 (Drawcom 함수 참고)  \n",
    "따라서 가장자리 레이아웃 자리까지 생각해서 위 아래 가장 끝에서 3번째에 com_y의 최소 최대 값을 지정해준다"
   ]
  },
  {
   "cell_type": "code",
   "execution_count": null,
   "id": "11ad2414",
   "metadata": {},
   "outputs": [],
   "source": [
    "\t\t\tif (com_y <= 3)\t\t// 컴퓨터 bar의 위 아래 최소 최대 값을 정해준다\n",
    "\t\t\t{\n",
    "\t\t\t\tcom_y = 3;\n",
    "\t\t\t}\n",
    "\t\t\telse if (com_y >= length - 3)\n",
    "\t\t\t{\n",
    "\t\t\t\tcom_y = length - 3;\n",
    "\t\t\t}\n",
    "\t\t\t///////////////////////////////////////////////////////////////////////////////"
   ]
  },
  {
   "cell_type": "markdown",
   "id": "37828280",
   "metadata": {},
   "source": [
    "## 공 방향전환\n",
    "공이 위나 아래 부분에 닿으면 방향을 전환해 안쪽으로 튀도록 만들어준다  \n",
    "공의 속도가 빨라지면 공이 레이아웃을 통과할 수도 있기 때문에 공의 y값 pos_y는 위 부분일 경우 1로 아래 부분일 경우 length - 1로 지정해준다  \n",
    "여기서 ball_flag를 사용하는 이유는 공의 속도가 느리면 닿은 뒤 바로 튀어나가지 않기 때문에 여러번 실행되는 것을 방지하기 위함이다  (ball_flag1 ~ ball_flag3까지 모두 같은 용도이다)  \n",
    "vel_y에 -1을 곱해주게 되면 양수는 음수로 음수는 양수로 바뀌면서 현재 y 진행 방향의 반대로 공이 이동하게된다"
   ]
  },
  {
   "cell_type": "code",
   "execution_count": null,
   "id": "ccff89b8",
   "metadata": {},
   "outputs": [],
   "source": [
    "\t\t\t \n",
    "\t\t\t//////////////////////// 공의 방향전환 ///////////////////////////\n",
    "\t\t\tif (pos_y <= 1) // 공이 위 부분에 닿으면 방향을 전환해준다 \n",
    "\t\t\t{\n",
    "\t\t\t\tpos_y = 1;\n",
    "\t\t\t\tif (ball_flag1 == 0)\t// ball_flag가 0이면 방향을 바꾸어 준다\n",
    "\t\t\t\t{\n",
    "\t\t\t\t\tvel_y = vel_y * -1;\n",
    "\t\t\t\t\tball_flag1 = 1;\n",
    "\t\t\t\t}\n",
    "\t\t\t\t\n",
    "\t\t\t}\n",
    "\t\t\telse if (pos_y >= length - 1) // 공이 아래 부분에 닿으면 방향을 전환해준다 \n",
    "\t\t\t{\n",
    "\t\t\t\tpos_y = length - 1;\n",
    "\t\t\t\tif (ball_flag1 == 0)\t// ball_flag가 0이면 방향을 바꾸어 준다\n",
    "\t\t\t\t{\n",
    "\t\t\t\t\tvel_y = vel_y * -1;\n",
    "\t\t\t\t\tball_flag1 = 1;\n",
    "\t\t\t\t}\n",
    "\t\t\t}\n",
    "\t\t\telse\n",
    "\t\t\t{\n",
    "\t\t\t\tball_flag1 = 0;\n",
    "\t\t\t}"
   ]
  },
  {
   "cell_type": "markdown",
   "id": "afe5a46a",
   "metadata": {},
   "source": [
    "## 공이 Computer Bar와 만났을 때\n",
    "공이 Computer Bar와 만나게 되면 방향을 전환해 안쪽으로 공이 튀도록 만들어준다  \n",
    "Computer Bar는 com_y를 기준으로 2칸씩 더 확장되어있다 (Drawcom 함수 참고)  \n",
    "공의 속도가 빨라지면 공이 bar를 통과할 수도 있기 때문에 공의 x값 pos_x는 width - 1로 지정해준다  \n",
    "vel_x에 -1을 곱해주게 되면 양수는 음수로 음수는 양수로 바뀌면서 현재 x 진행 방향의 반대로 공이 이동하게된다  "
   ]
  },
  {
   "cell_type": "code",
   "execution_count": null,
   "id": "bfa7aafa",
   "metadata": {},
   "outputs": [],
   "source": [
    "\t\t\tif (pos_x >= width - 1)\t\t\t// 공이 컴퓨터 bar와 만나면 방향을 전환해준다\n",
    "\t\t\t{\n",
    "\t\t\t\tif ((pos_y >= com_y - 2) && (pos_y <= com_y + 2))\n",
    "\t\t\t\t{\n",
    "\t\t\t\t\tpos_x = width - 1;\n",
    "\t\t\t\t\tif (ball_flag2 == 0)\n",
    "\t\t\t\t\t{\n",
    "\t\t\t\t\t\tvel_x = vel_x * -1;\n",
    "\t\t\t\t\t\tball_flag2 = 1;\n",
    "\t\t\t\t\t}\n",
    "\t\t\t\t\t\n",
    "\t\t\t\t}\n",
    "\t\t\t}\n",
    "\t\t\telse\n",
    "\t\t\t{\n",
    "\t\t\t\tball_flag2 = 0;\n",
    "\t\t\t}"
   ]
  },
  {
   "cell_type": "markdown",
   "id": "9f9de016",
   "metadata": {},
   "source": [
    "## 공이 Player Bar와 만났을 때\n",
    "공이 Player Bar와 만나게 되면 방향을 전환해 안쪽으로 공이 튀도록 만들어준다  \n",
    "Player Bar는 bar_y를 기준으로 2칸씩 더 확장되어있다 (Drawbar 함수 참고)  \n",
    "공의 속도가 빨라지면 공이 bar를 통과할 수도 있기 때문에 공의 x값 pos_x는 1로 지정해준다  \n",
    "vel_x에 -1을 곱해주게 되면 양수는 음수로 음수는 양수로 바뀌면서 현재 x 진행 방향의 반대로 공이 이동하게된다  \n",
    "또한 점수를 추가해 주고 공의 속도를 높여준다  "
   ]
  },
  {
   "cell_type": "code",
   "execution_count": null,
   "id": "2e37b060",
   "metadata": {},
   "outputs": [],
   "source": [
    "\t\t\tif (pos_x <= 1)\t\t\t// 공이 player bar와 만나면 방향을 전환해준다 player bar와 만날 때 마다 점수가 올라가고 속도가 빨라진다\n",
    "\t\t\t{\n",
    "\t\t\t\tif ((pos_y >= bar_y - 2) && (pos_y <= bar_y + 2))\n",
    "\t\t\t\t{\n",
    "\t\t\t\t\tpos_x = 1;\n",
    "\t\t\t\t\tif (ball_flag3 == 0)\n",
    "\t\t\t\t\t{\n",
    "\t\t\t\t\t\tvel_x = vel_x * -1;\n",
    "\t\t\t\t\t\tscore = score + 1; // 점수를 추가\n",
    "\t\t\t\t\t\tif (rally_flag == rally) // 설정한 랠리만큼 진행이되면 속도를 높여줌\n",
    "\t\t\t\t\t\t{\n",
    "\t\t\t\t\t\t\tif (speed1 > 1)\t\n",
    "\t\t\t\t\t\t\t{\n",
    "\t\t\t\t\t\t\t\tspeed1 = speed1 - 1;\n",
    "\t\t\t\t\t\t\t}\n",
    "\t\t\t\t\t\t\telse\n",
    "\t\t\t\t\t\t\t{\n",
    "\t\t\t\t\t\t\t\tspeed2 = speed2 + 1;\n",
    "\t\t\t\t\t\t\t}\n",
    "\t\t\t\t\t\t\trally_flag = 0;\n",
    "\t\t\t\t\t\t}\n",
    "\t\t\t\t\t\trally_flag = rally_flag + 1;\n",
    "\t\t\t\t\t\tball_flag3 = 1;\n",
    "\t\t\t\t\t}\n",
    "\n",
    "\t\t\t\t}\n",
    "\t\t\t}\n",
    "\t\t\telse\n",
    "\t\t\t{\n",
    "\t\t\t\tball_flag3 = 0;\n",
    "\t\t\t}\n",
    "\t\t\t//////////////////////////////////////////////////////////////////////"
   ]
  },
  {
   "cell_type": "markdown",
   "id": "b4f6be3e",
   "metadata": {},
   "source": [
    "## 공이 아웃됐을 때\n",
    "공이 게임창을 벗어날 경우  \n",
    "왼쪽(Player Bar 위치)으로 아웃되면 gameover창을 띄우고\n",
    "오른쪽(Computer Bar 위치)으로 아웃되면 Win창을 띄운다"
   ]
  },
  {
   "cell_type": "code",
   "execution_count": null,
   "id": "e5911dc7",
   "metadata": {},
   "outputs": [],
   "source": [
    "\t\t\tif (pos_x <= 0)\t// 공이 아웃될 때\n",
    "\t\t\t{\n",
    "\t\t\t\tDrawgameover(score);\n",
    "\t\t\t\tbreak;\n",
    "\t\t\t}\n",
    "\t\t\telse if (pos_x >= width)\n",
    "\t\t\t{\n",
    "\t\t\t\tDrawwin(score);\n",
    "\t\t\t\tbreak;\n",
    "\t\t\t}"
   ]
  },
  {
   "cell_type": "markdown",
   "id": "7b209b88",
   "metadata": {},
   "source": [
    "## 화면 그리기\n",
    "![](game.png)"
   ]
  },
  {
   "cell_type": "code",
   "execution_count": null,
   "id": "20c86fd2",
   "metadata": {},
   "outputs": [],
   "source": [
    "\t\t\tDrawbar(bar_y);\t// player bar를 그려준다\n",
    "\t\t\tDrawcom(com_y); // 컴퓨터의 bar를 그려준다\n",
    "\t\t\tDrawlayout();\t// 레이아웃을 그려준다\n",
    "\t\t\tSleep(10);\n",
    "\t\t\tsystem(\"cls\");\t// 화면을 초기화 해준다\n",
    "\t\t}\n",
    "\n",
    "\t\t\n",
    "\t}\n",
    "\treturn 0;\n",
    "}"
   ]
  }
 ],
 "metadata": {
  "kernelspec": {
   "display_name": "Python 3 (ipykernel)",
   "language": "python",
   "name": "python3"
  },
  "language_info": {
   "codemirror_mode": {
    "name": "ipython",
    "version": 3
   },
   "file_extension": ".py",
   "mimetype": "text/x-python",
   "name": "python",
   "nbconvert_exporter": "python",
   "pygments_lexer": "ipython3",
   "version": "3.10.9"
  }
 },
 "nbformat": 4,
 "nbformat_minor": 5
}
